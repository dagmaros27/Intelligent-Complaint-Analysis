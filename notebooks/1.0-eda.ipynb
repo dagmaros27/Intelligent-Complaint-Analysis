{
  "nbformat": 4,
  "nbformat_minor": 0,
  "metadata": {
    "colab": {
      "provenance": []
    },
    "kernelspec": {
      "name": "python3",
      "display_name": "Python 3"
    },
    "language_info": {
      "name": "python"
    }
  },
  "cells": [
    {
      "cell_type": "code",
      "execution_count": 1,
      "metadata": {
        "id": "Lp7q5vgueqgQ"
      },
      "outputs": [],
      "source": [
        "import pandas as pd\n",
        "import matplotlib.pyplot as plt\n",
        "import seaborn as sns"
      ]
    },
    {
      "cell_type": "code",
      "source": [
        "df = pd.read_csv(\"/content/drive/MyDrive/Copy of complaints.csv\")"
      ],
      "metadata": {
        "colab": {
          "base_uri": "https://localhost:8080/"
        },
        "id": "JqLEwvO7g_nk",
        "outputId": "157aff69-ee0a-49a0-ec48-27b885bdad97"
      },
      "execution_count": 2,
      "outputs": [
        {
          "output_type": "stream",
          "name": "stderr",
          "text": [
            "/tmp/ipython-input-2-894396469.py:1: DtypeWarning: Columns (16) have mixed types. Specify dtype option on import or set low_memory=False.\n",
            "  df = pd.read_csv(\"/content/drive/MyDrive/Copy of complaints.csv\")\n"
          ]
        }
      ]
    },
    {
      "cell_type": "code",
      "source": [
        "print(df.head())\n",
        "print(df.info())\n",
        "print(df.isnull().sum())\n",
        "print(f\"Rows: {df.shape[0]}\")\n",
        "print(f\"Columns: {df.shape[1]}\")"
      ],
      "metadata": {
        "colab": {
          "base_uri": "https://localhost:8080/"
        },
        "id": "sDz8DH8ihUJi",
        "outputId": "e26f3799-4104-4b33-8f9e-08de01805667"
      },
      "execution_count": 3,
      "outputs": [
        {
          "output_type": "stream",
          "name": "stdout",
          "text": [
            "  Date received                                            Product  \\\n",
            "0    2025-06-20  Credit reporting or other personal consumer re...   \n",
            "1    2025-06-20                                    Debt collection   \n",
            "2    2025-06-20  Credit reporting or other personal consumer re...   \n",
            "3    2025-06-20  Credit reporting or other personal consumer re...   \n",
            "4    2025-06-20  Credit reporting or other personal consumer re...   \n",
            "\n",
            "               Sub-product                                 Issue  \\\n",
            "0         Credit reporting  Incorrect information on your report   \n",
            "1  Telecommunications debt     Attempts to collect debt not owed   \n",
            "2         Credit reporting           Improper use of your report   \n",
            "3         Credit reporting           Improper use of your report   \n",
            "4         Credit reporting  Incorrect information on your report   \n",
            "\n",
            "                                       Sub-issue Consumer complaint narrative  \\\n",
            "0            Information belongs to someone else                          NaN   \n",
            "1                              Debt is not yours                          NaN   \n",
            "2  Reporting company used your report improperly                          NaN   \n",
            "3  Reporting company used your report improperly                          NaN   \n",
            "4                       Account status incorrect                          NaN   \n",
            "\n",
            "                             Company public response  \\\n",
            "0                                                NaN   \n",
            "1  Company can't verify or dispute the facts in t...   \n",
            "2                                                NaN   \n",
            "3                                                NaN   \n",
            "4                                                NaN   \n",
            "\n",
            "                                        Company State ZIP code Tags  \\\n",
            "0           Experian Information Solutions Inc.    FL    32092  NaN   \n",
            "1  Eastern Account Systems of Connecticut, Inc.    FL    342XX  NaN   \n",
            "2        TRANSUNION INTERMEDIATE HOLDINGS, INC.    AZ    85225  NaN   \n",
            "3           Experian Information Solutions Inc.    AZ    85225  NaN   \n",
            "4           Experian Information Solutions Inc.    IL    60628  NaN   \n",
            "\n",
            "  Consumer consent provided? Submitted via Date sent to company  \\\n",
            "0                        NaN           Web           2025-06-20   \n",
            "1                        NaN           Web           2025-06-20   \n",
            "2                        NaN           Web           2025-06-20   \n",
            "3                        NaN           Web           2025-06-20   \n",
            "4                        NaN           Web           2025-06-20   \n",
            "\n",
            "  Company response to consumer Timely response? Consumer disputed?  \\\n",
            "0                  In progress              Yes                NaN   \n",
            "1      Closed with explanation              Yes                NaN   \n",
            "2                  In progress              Yes                NaN   \n",
            "3                  In progress              Yes                NaN   \n",
            "4                  In progress              Yes                NaN   \n",
            "\n",
            "   Complaint ID  \n",
            "0      14195687  \n",
            "1      14195688  \n",
            "2      14195689  \n",
            "3      14195690  \n",
            "4      14195692  \n",
            "<class 'pandas.core.frame.DataFrame'>\n",
            "RangeIndex: 9609797 entries, 0 to 9609796\n",
            "Data columns (total 18 columns):\n",
            " #   Column                        Dtype \n",
            "---  ------                        ----- \n",
            " 0   Date received                 object\n",
            " 1   Product                       object\n",
            " 2   Sub-product                   object\n",
            " 3   Issue                         object\n",
            " 4   Sub-issue                     object\n",
            " 5   Consumer complaint narrative  object\n",
            " 6   Company public response       object\n",
            " 7   Company                       object\n",
            " 8   State                         object\n",
            " 9   ZIP code                      object\n",
            " 10  Tags                          object\n",
            " 11  Consumer consent provided?    object\n",
            " 12  Submitted via                 object\n",
            " 13  Date sent to company          object\n",
            " 14  Company response to consumer  object\n",
            " 15  Timely response?              object\n",
            " 16  Consumer disputed?            object\n",
            " 17  Complaint ID                  int64 \n",
            "dtypes: int64(1), object(17)\n",
            "memory usage: 1.3+ GB\n",
            "None\n",
            "Date received                         0\n",
            "Product                               0\n",
            "Sub-product                      235295\n",
            "Issue                                 6\n",
            "Sub-issue                        839522\n",
            "Consumer complaint narrative    6629041\n",
            "Company public response         4770207\n",
            "Company                               0\n",
            "State                             54516\n",
            "ZIP code                          30228\n",
            "Tags                            8981029\n",
            "Consumer consent provided?      1649561\n",
            "Submitted via                         0\n",
            "Date sent to company                  0\n",
            "Company response to consumer         20\n",
            "Timely response?                      0\n",
            "Consumer disputed?              8841498\n",
            "Complaint ID                          0\n",
            "dtype: int64\n",
            "Rows: 9609797\n",
            "Columns: 18\n"
          ]
        }
      ]
    },
    {
      "cell_type": "code",
      "source": [
        "df.describe()"
      ],
      "metadata": {
        "id": "2cacsuRuuhZv",
        "colab": {
          "base_uri": "https://localhost:8080/",
          "height": 300
        },
        "outputId": "6aa0a0b8-9925-4983-c83b-d28da0b7a827"
      },
      "execution_count": 4,
      "outputs": [
        {
          "output_type": "execute_result",
          "data": {
            "text/plain": [
              "       Complaint ID\n",
              "count  9.609797e+06\n",
              "mean   8.092744e+06\n",
              "std    3.774842e+06\n",
              "min    1.000000e+00\n",
              "25%    5.038016e+06\n",
              "50%    8.448508e+06\n",
              "75%    1.129591e+07\n",
              "max    1.423259e+07"
            ],
            "text/html": [
              "\n",
              "  <div id=\"df-f604d600-d006-4b59-852a-264fc0073a96\" class=\"colab-df-container\">\n",
              "    <div>\n",
              "<style scoped>\n",
              "    .dataframe tbody tr th:only-of-type {\n",
              "        vertical-align: middle;\n",
              "    }\n",
              "\n",
              "    .dataframe tbody tr th {\n",
              "        vertical-align: top;\n",
              "    }\n",
              "\n",
              "    .dataframe thead th {\n",
              "        text-align: right;\n",
              "    }\n",
              "</style>\n",
              "<table border=\"1\" class=\"dataframe\">\n",
              "  <thead>\n",
              "    <tr style=\"text-align: right;\">\n",
              "      <th></th>\n",
              "      <th>Complaint ID</th>\n",
              "    </tr>\n",
              "  </thead>\n",
              "  <tbody>\n",
              "    <tr>\n",
              "      <th>count</th>\n",
              "      <td>9.609797e+06</td>\n",
              "    </tr>\n",
              "    <tr>\n",
              "      <th>mean</th>\n",
              "      <td>8.092744e+06</td>\n",
              "    </tr>\n",
              "    <tr>\n",
              "      <th>std</th>\n",
              "      <td>3.774842e+06</td>\n",
              "    </tr>\n",
              "    <tr>\n",
              "      <th>min</th>\n",
              "      <td>1.000000e+00</td>\n",
              "    </tr>\n",
              "    <tr>\n",
              "      <th>25%</th>\n",
              "      <td>5.038016e+06</td>\n",
              "    </tr>\n",
              "    <tr>\n",
              "      <th>50%</th>\n",
              "      <td>8.448508e+06</td>\n",
              "    </tr>\n",
              "    <tr>\n",
              "      <th>75%</th>\n",
              "      <td>1.129591e+07</td>\n",
              "    </tr>\n",
              "    <tr>\n",
              "      <th>max</th>\n",
              "      <td>1.423259e+07</td>\n",
              "    </tr>\n",
              "  </tbody>\n",
              "</table>\n",
              "</div>\n",
              "    <div class=\"colab-df-buttons\">\n",
              "\n",
              "  <div class=\"colab-df-container\">\n",
              "    <button class=\"colab-df-convert\" onclick=\"convertToInteractive('df-f604d600-d006-4b59-852a-264fc0073a96')\"\n",
              "            title=\"Convert this dataframe to an interactive table.\"\n",
              "            style=\"display:none;\">\n",
              "\n",
              "  <svg xmlns=\"http://www.w3.org/2000/svg\" height=\"24px\" viewBox=\"0 -960 960 960\">\n",
              "    <path d=\"M120-120v-720h720v720H120Zm60-500h600v-160H180v160Zm220 220h160v-160H400v160Zm0 220h160v-160H400v160ZM180-400h160v-160H180v160Zm440 0h160v-160H620v160ZM180-180h160v-160H180v160Zm440 0h160v-160H620v160Z\"/>\n",
              "  </svg>\n",
              "    </button>\n",
              "\n",
              "  <style>\n",
              "    .colab-df-container {\n",
              "      display:flex;\n",
              "      gap: 12px;\n",
              "    }\n",
              "\n",
              "    .colab-df-convert {\n",
              "      background-color: #E8F0FE;\n",
              "      border: none;\n",
              "      border-radius: 50%;\n",
              "      cursor: pointer;\n",
              "      display: none;\n",
              "      fill: #1967D2;\n",
              "      height: 32px;\n",
              "      padding: 0 0 0 0;\n",
              "      width: 32px;\n",
              "    }\n",
              "\n",
              "    .colab-df-convert:hover {\n",
              "      background-color: #E2EBFA;\n",
              "      box-shadow: 0px 1px 2px rgba(60, 64, 67, 0.3), 0px 1px 3px 1px rgba(60, 64, 67, 0.15);\n",
              "      fill: #174EA6;\n",
              "    }\n",
              "\n",
              "    .colab-df-buttons div {\n",
              "      margin-bottom: 4px;\n",
              "    }\n",
              "\n",
              "    [theme=dark] .colab-df-convert {\n",
              "      background-color: #3B4455;\n",
              "      fill: #D2E3FC;\n",
              "    }\n",
              "\n",
              "    [theme=dark] .colab-df-convert:hover {\n",
              "      background-color: #434B5C;\n",
              "      box-shadow: 0px 1px 3px 1px rgba(0, 0, 0, 0.15);\n",
              "      filter: drop-shadow(0px 1px 2px rgba(0, 0, 0, 0.3));\n",
              "      fill: #FFFFFF;\n",
              "    }\n",
              "  </style>\n",
              "\n",
              "    <script>\n",
              "      const buttonEl =\n",
              "        document.querySelector('#df-f604d600-d006-4b59-852a-264fc0073a96 button.colab-df-convert');\n",
              "      buttonEl.style.display =\n",
              "        google.colab.kernel.accessAllowed ? 'block' : 'none';\n",
              "\n",
              "      async function convertToInteractive(key) {\n",
              "        const element = document.querySelector('#df-f604d600-d006-4b59-852a-264fc0073a96');\n",
              "        const dataTable =\n",
              "          await google.colab.kernel.invokeFunction('convertToInteractive',\n",
              "                                                    [key], {});\n",
              "        if (!dataTable) return;\n",
              "\n",
              "        const docLinkHtml = 'Like what you see? Visit the ' +\n",
              "          '<a target=\"_blank\" href=https://colab.research.google.com/notebooks/data_table.ipynb>data table notebook</a>'\n",
              "          + ' to learn more about interactive tables.';\n",
              "        element.innerHTML = '';\n",
              "        dataTable['output_type'] = 'display_data';\n",
              "        await google.colab.output.renderOutput(dataTable, element);\n",
              "        const docLink = document.createElement('div');\n",
              "        docLink.innerHTML = docLinkHtml;\n",
              "        element.appendChild(docLink);\n",
              "      }\n",
              "    </script>\n",
              "  </div>\n",
              "\n",
              "\n",
              "    <div id=\"df-285ebc9b-eee8-4c19-849e-834bc0bddc77\">\n",
              "      <button class=\"colab-df-quickchart\" onclick=\"quickchart('df-285ebc9b-eee8-4c19-849e-834bc0bddc77')\"\n",
              "                title=\"Suggest charts\"\n",
              "                style=\"display:none;\">\n",
              "\n",
              "<svg xmlns=\"http://www.w3.org/2000/svg\" height=\"24px\"viewBox=\"0 0 24 24\"\n",
              "     width=\"24px\">\n",
              "    <g>\n",
              "        <path d=\"M19 3H5c-1.1 0-2 .9-2 2v14c0 1.1.9 2 2 2h14c1.1 0 2-.9 2-2V5c0-1.1-.9-2-2-2zM9 17H7v-7h2v7zm4 0h-2V7h2v10zm4 0h-2v-4h2v4z\"/>\n",
              "    </g>\n",
              "</svg>\n",
              "      </button>\n",
              "\n",
              "<style>\n",
              "  .colab-df-quickchart {\n",
              "      --bg-color: #E8F0FE;\n",
              "      --fill-color: #1967D2;\n",
              "      --hover-bg-color: #E2EBFA;\n",
              "      --hover-fill-color: #174EA6;\n",
              "      --disabled-fill-color: #AAA;\n",
              "      --disabled-bg-color: #DDD;\n",
              "  }\n",
              "\n",
              "  [theme=dark] .colab-df-quickchart {\n",
              "      --bg-color: #3B4455;\n",
              "      --fill-color: #D2E3FC;\n",
              "      --hover-bg-color: #434B5C;\n",
              "      --hover-fill-color: #FFFFFF;\n",
              "      --disabled-bg-color: #3B4455;\n",
              "      --disabled-fill-color: #666;\n",
              "  }\n",
              "\n",
              "  .colab-df-quickchart {\n",
              "    background-color: var(--bg-color);\n",
              "    border: none;\n",
              "    border-radius: 50%;\n",
              "    cursor: pointer;\n",
              "    display: none;\n",
              "    fill: var(--fill-color);\n",
              "    height: 32px;\n",
              "    padding: 0;\n",
              "    width: 32px;\n",
              "  }\n",
              "\n",
              "  .colab-df-quickchart:hover {\n",
              "    background-color: var(--hover-bg-color);\n",
              "    box-shadow: 0 1px 2px rgba(60, 64, 67, 0.3), 0 1px 3px 1px rgba(60, 64, 67, 0.15);\n",
              "    fill: var(--button-hover-fill-color);\n",
              "  }\n",
              "\n",
              "  .colab-df-quickchart-complete:disabled,\n",
              "  .colab-df-quickchart-complete:disabled:hover {\n",
              "    background-color: var(--disabled-bg-color);\n",
              "    fill: var(--disabled-fill-color);\n",
              "    box-shadow: none;\n",
              "  }\n",
              "\n",
              "  .colab-df-spinner {\n",
              "    border: 2px solid var(--fill-color);\n",
              "    border-color: transparent;\n",
              "    border-bottom-color: var(--fill-color);\n",
              "    animation:\n",
              "      spin 1s steps(1) infinite;\n",
              "  }\n",
              "\n",
              "  @keyframes spin {\n",
              "    0% {\n",
              "      border-color: transparent;\n",
              "      border-bottom-color: var(--fill-color);\n",
              "      border-left-color: var(--fill-color);\n",
              "    }\n",
              "    20% {\n",
              "      border-color: transparent;\n",
              "      border-left-color: var(--fill-color);\n",
              "      border-top-color: var(--fill-color);\n",
              "    }\n",
              "    30% {\n",
              "      border-color: transparent;\n",
              "      border-left-color: var(--fill-color);\n",
              "      border-top-color: var(--fill-color);\n",
              "      border-right-color: var(--fill-color);\n",
              "    }\n",
              "    40% {\n",
              "      border-color: transparent;\n",
              "      border-right-color: var(--fill-color);\n",
              "      border-top-color: var(--fill-color);\n",
              "    }\n",
              "    60% {\n",
              "      border-color: transparent;\n",
              "      border-right-color: var(--fill-color);\n",
              "    }\n",
              "    80% {\n",
              "      border-color: transparent;\n",
              "      border-right-color: var(--fill-color);\n",
              "      border-bottom-color: var(--fill-color);\n",
              "    }\n",
              "    90% {\n",
              "      border-color: transparent;\n",
              "      border-bottom-color: var(--fill-color);\n",
              "    }\n",
              "  }\n",
              "</style>\n",
              "\n",
              "      <script>\n",
              "        async function quickchart(key) {\n",
              "          const quickchartButtonEl =\n",
              "            document.querySelector('#' + key + ' button');\n",
              "          quickchartButtonEl.disabled = true;  // To prevent multiple clicks.\n",
              "          quickchartButtonEl.classList.add('colab-df-spinner');\n",
              "          try {\n",
              "            const charts = await google.colab.kernel.invokeFunction(\n",
              "                'suggestCharts', [key], {});\n",
              "          } catch (error) {\n",
              "            console.error('Error during call to suggestCharts:', error);\n",
              "          }\n",
              "          quickchartButtonEl.classList.remove('colab-df-spinner');\n",
              "          quickchartButtonEl.classList.add('colab-df-quickchart-complete');\n",
              "        }\n",
              "        (() => {\n",
              "          let quickchartButtonEl =\n",
              "            document.querySelector('#df-285ebc9b-eee8-4c19-849e-834bc0bddc77 button');\n",
              "          quickchartButtonEl.style.display =\n",
              "            google.colab.kernel.accessAllowed ? 'block' : 'none';\n",
              "        })();\n",
              "      </script>\n",
              "    </div>\n",
              "\n",
              "    </div>\n",
              "  </div>\n"
            ],
            "application/vnd.google.colaboratory.intrinsic+json": {
              "type": "dataframe",
              "summary": "{\n  \"name\": \"df\",\n  \"rows\": 8,\n  \"fields\": [\n    {\n      \"column\": \"Complaint ID\",\n      \"properties\": {\n        \"dtype\": \"number\",\n        \"std\": 4497567.714398852,\n        \"min\": 1.0,\n        \"max\": 14232588.0,\n        \"num_unique_values\": 8,\n        \"samples\": [\n          8092744.076591108,\n          8448508.0,\n          9609797.0\n        ],\n        \"semantic_type\": \"\",\n        \"description\": \"\"\n      }\n    }\n  ]\n}"
            }
          },
          "metadata": {},
          "execution_count": 4
        }
      ]
    },
    {
      "cell_type": "code",
      "source": [
        "print(f\"Rows: {df.shape[0]}\")\n",
        "print(f\"Columns: {df.shape[1]}\")"
      ],
      "metadata": {
        "colab": {
          "base_uri": "https://localhost:8080/"
        },
        "id": "tumHvHE0l3Xw",
        "outputId": "8cc786a9-82ae-46a8-e797-bd9b8f9d7dd6"
      },
      "execution_count": 5,
      "outputs": [
        {
          "output_type": "stream",
          "name": "stdout",
          "text": [
            "Rows: 9609797\n",
            "Columns: 18\n"
          ]
        }
      ]
    },
    {
      "cell_type": "code",
      "source": [
        "product_counts = df['Product'].value_counts()\n",
        "plt.figure(figsize=(12, 6))\n",
        "sns.barplot(x=product_counts.index, y=product_counts.values, color='green')\n",
        "plt.xticks(rotation=90)\n",
        "plt.xlabel('Product')\n",
        "plt.ylabel('Number of Complaints')\n",
        "plt.title('Distribution of Complaints Across Products')\n",
        "plt.tight_layout()\n",
        "plt.show()"
      ],
      "metadata": {
        "colab": {
          "base_uri": "https://localhost:8080/",
          "height": 1000
        },
        "id": "zyy1rhgGXIOh",
        "outputId": "5cb11567-8720-4de5-af19-70edd579ba21"
      },
      "execution_count": 6,
      "outputs": [
        {
          "output_type": "stream",
          "name": "stderr",
          "text": [
            "/tmp/ipython-input-6-2301035065.py:8: UserWarning: Tight layout not applied. The bottom and top margins cannot be made large enough to accommodate all Axes decorations.\n",
            "  plt.tight_layout()\n"
          ]
        },
        {
          "output_type": "display_data",
          "data": {
            "text/plain": [
              "<Figure size 1200x600 with 1 Axes>"
            ],
            "image/png": "[encoded data removed]"
          },
          "metadata": {}
        }
      ]
    },
    {
      "cell_type": "code",
      "source": [
        "df.columns"
      ],
      "metadata": {
        "colab": {
          "base_uri": "https://localhost:8080/"
        },
        "id": "9sLCgs_ApdZ4",
        "outputId": "c440a6a5-6107-41a9-918c-f3c93d227cae"
      },
      "execution_count": 7,
      "outputs": [
        {
          "output_type": "execute_result",
          "data": {
            "text/plain": [
              "Index(['Date received', 'Product', 'Sub-product', 'Issue', 'Sub-issue',\n",
              "       'Consumer complaint narrative', 'Company public response', 'Company',\n",
              "       'State', 'ZIP code', 'Tags', 'Consumer consent provided?',\n",
              "       'Submitted via', 'Date sent to company', 'Company response to consumer',\n",
              "       'Timely response?', 'Consumer disputed?', 'Complaint ID'],\n",
              "      dtype='object')"
            ]
          },
          "metadata": {},
          "execution_count": 7
        }
      ]
    },
    {
      "cell_type": "code",
      "source": [
        "df = df.dropna(subset=['Consumer complaint narrative'], axis=0, how='any')\n",
        "print(df.isnull().sum())"
      ],
      "metadata": {
        "colab": {
          "base_uri": "https://localhost:8080/"
        },
        "id": "37rXzISbjWcA",
        "outputId": "d3a7c61b-0694-481d-974e-0d4fba1c3b42"
      },
      "execution_count": 8,
      "outputs": [
        {
          "output_type": "stream",
          "name": "stdout",
          "text": [
            "Date received                         0\n",
            "Product                               0\n",
            "Sub-product                       52206\n",
            "Issue                                 0\n",
            "Sub-issue                        297406\n",
            "Consumer complaint narrative          0\n",
            "Company public response         1379416\n",
            "Company                               0\n",
            "State                             10969\n",
            "ZIP code                              0\n",
            "Tags                            2671491\n",
            "Consumer consent provided?            0\n",
            "Submitted via                         0\n",
            "Date sent to company                  0\n",
            "Company response to consumer          9\n",
            "Timely response?                      0\n",
            "Consumer disputed?              2816747\n",
            "Complaint ID                          0\n",
            "dtype: int64\n"
          ]
        }
      ]
    },
    {
      "cell_type": "code",
      "source": [
        "print(df['Product'].value_counts())\n"
      ],
      "metadata": {
        "colab": {
          "base_uri": "https://localhost:8080/"
        },
        "id": "nAT-1DOG-aOX",
        "outputId": "84851865-ce60-4719-af2a-7101086b5382"
      },
      "execution_count": 10,
      "outputs": [
        {
          "output_type": "stream",
          "name": "stdout",
          "text": [
            "Product\n",
            "Credit reporting or other personal consumer reports                             1091253\n",
            "Credit reporting, credit repair services, or other personal consumer reports     807281\n",
            "Debt collection                                                                  336076\n",
            "Checking or savings account                                                      140319\n",
            "Mortgage                                                                         130160\n",
            "Credit card or prepaid card                                                      108667\n",
            "Money transfer, virtual currency, or money service                                97188\n",
            "Credit card                                                                       80667\n",
            "Student loan                                                                      53209\n",
            "Vehicle loan or lease                                                             39577\n",
            "Credit reporting                                                                  31587\n",
            "Payday loan, title loan, or personal loan                                         17238\n",
            "Bank account or service                                                           14885\n",
            "Consumer Loan                                                                      9461\n",
            "Payday loan, title loan, personal loan, or advance loan                            8896\n",
            "Prepaid card                                                                       7792\n",
            "Debt or credit management                                                          2949\n",
            "Payday loan                                                                        1746\n",
            "Money transfers                                                                    1497\n",
            "Other financial service                                                             292\n",
            "Virtual currency                                                                     16\n",
            "Name: count, dtype: int64\n"
          ]
        }
      ]
    },
    {
      "cell_type": "code",
      "source": [
        "df['Sub-product'].unique()"
      ],
      "metadata": {
        "colab": {
          "base_uri": "https://localhost:8080/"
        },
        "id": "f1_i0aRQB5Cq",
        "outputId": "a1629828-5598-4bd5-c1ef-528c8c594b2f"
      },
      "execution_count": 15,
      "outputs": [
        {
          "output_type": "execute_result",
          "data": {
            "text/plain": [
              "array(['Credit reporting', 'Conventional home mortgage',\n",
              "       'Store credit card', 'Checking account',\n",
              "       'General-purpose credit card or charge card',\n",
              "       'Telecommunications debt', 'I do not know', 'Loan', 'VA mortgage',\n",
              "       'Other debt', 'Payday loan', 'Installment loan',\n",
              "       'Mobile or digital wallet', 'Savings account', 'Rental debt',\n",
              "       'Credit card debt', 'Federal student loan servicing',\n",
              "       'Medical debt', 'Domestic (US) money transfer',\n",
              "       'CD (Certificate of Deposit)', 'Private student loan', 'Auto debt',\n",
              "       'Other personal consumer report', 'Private student loan debt',\n",
              "       'Home equity loan or line of credit (HELOC)',\n",
              "       'Other type of mortgage', 'FHA mortgage', 'Virtual currency',\n",
              "       'Other banking product or service', 'Payday loan debt',\n",
              "       'Foreign currency exchange', 'Lease', 'Gift card',\n",
              "       'Other advances of future income', 'Credit repair services',\n",
              "       'Federal student loan debt', 'General-purpose prepaid card',\n",
              "       'USDA mortgage', 'Government benefit card',\n",
              "       'International money transfer', 'Personal line of credit',\n",
              "       'Debt settlement',\n",
              "       \"Money order, traveler's check or cashier's check\", 'Title loan',\n",
              "       'Reverse mortgage', 'Manufactured home loan',\n",
              "       'Check cashing service', 'Mortgage debt', nan,\n",
              "       'Conventional fixed mortgage', 'Non-federal student loan',\n",
              "       'Payroll card', 'Mortgage modification or foreclosure avoidance',\n",
              "       'Earned wage access', 'Student prepaid card',\n",
              "       'Student loan debt relief',\n",
              "       'Other (i.e. phone, health club, etc.)', 'Medical', 'Credit card',\n",
              "       'Conventional adjustable mortgage (ARM)',\n",
              "       '(CD) Certificate of deposit', 'General purpose card',\n",
              "       'Other bank product/service', 'Vehicle loan', 'Other mortgage',\n",
              "       'Pawn loan', 'Tax refund anticipation loan or check',\n",
              "       'Home equity loan or line of credit', 'Gift or merchant card',\n",
              "       'Auto', 'Federal student loan', 'Mortgage',\n",
              "       'Electronic Benefit Transfer / EBT card',\n",
              "       'Refund anticipation check', 'Government benefit payment card',\n",
              "       'Vehicle lease', 'Cashing a check without an account',\n",
              "       'Credit repair', 'Money order', 'Mobile wallet',\n",
              "       \"Traveler's check or cashier's check\", 'Check cashing',\n",
              "       'Traveler’s/Cashier’s checks', 'ID prepaid card',\n",
              "       'Other special purpose card', 'Transit card'], dtype=object)"
            ]
          },
          "metadata": {},
          "execution_count": 15
        }
      ]
    },
    {
      "cell_type": "code",
      "source": [
        "df[df['Sub-product'].str.contains(\"buy now|BNPL\", case=False, na=False)]\n"
      ],
      "metadata": {
        "colab": {
          "base_uri": "https://localhost:8080/",
          "height": 121
        },
        "id": "t1kCPxUi_9Mz",
        "outputId": "fe43ebe7-f889-4d22-9a8d-d3a9182a5b7e"
      },
      "execution_count": 11,
      "outputs": [
        {
          "output_type": "execute_result",
          "data": {
            "text/plain": [
              "Empty DataFrame\n",
              "Columns: [Date received, Product, Sub-product, Issue, Sub-issue, Consumer complaint narrative, Company public response, Company, State, ZIP code, Tags, Consumer consent provided?, Submitted via, Date sent to company, Company response to consumer, Timely response?, Consumer disputed?, Complaint ID]\n",
              "Index: []"
            ],
            "text/html": [
              "\n",
              "  <div id=\"df-87f4c8d2-9812-4557-81f0-dc6d74e4014e\" class=\"colab-df-container\">\n",
              "    <div>\n",
              "<style scoped>\n",
              "    .dataframe tbody tr th:only-of-type {\n",
              "        vertical-align: middle;\n",
              "    }\n",
              "\n",
              "    .dataframe tbody tr th {\n",
              "        vertical-align: top;\n",
              "    }\n",
              "\n",
              "    .dataframe thead th {\n",
              "        text-align: right;\n",
              "    }\n",
              "</style>\n",
              "<table border=\"1\" class=\"dataframe\">\n",
              "  <thead>\n",
              "    <tr style=\"text-align: right;\">\n",
              "      <th></th>\n",
              "      <th>Date received</th>\n",
              "      <th>Product</th>\n",
              "      <th>Sub-product</th>\n",
              "      <th>Issue</th>\n",
              "      <th>Sub-issue</th>\n",
              "      <th>Consumer complaint narrative</th>\n",
              "      <th>Company public response</th>\n",
              "      <th>Company</th>\n",
              "      <th>State</th>\n",
              "      <th>ZIP code</th>\n",
              "      <th>Tags</th>\n",
              "      <th>Consumer consent provided?</th>\n",
              "      <th>Submitted via</th>\n",
              "      <th>Date sent to company</th>\n",
              "      <th>Company response to consumer</th>\n",
              "      <th>Timely response?</th>\n",
              "      <th>Consumer disputed?</th>\n",
              "      <th>Complaint ID</th>\n",
              "    </tr>\n",
              "  </thead>\n",
              "  <tbody>\n",
              "  </tbody>\n",
              "</table>\n",
              "</div>\n",
              "    <div class=\"colab-df-buttons\">\n",
              "\n",
              "  <div class=\"colab-df-container\">\n",
              "    <button class=\"colab-df-convert\" onclick=\"convertToInteractive('df-87f4c8d2-9812-4557-81f0-dc6d74e4014e')\"\n",
              "            title=\"Convert this dataframe to an interactive table.\"\n",
              "            style=\"display:none;\">\n",
              "\n",
              "  <svg xmlns=\"http://www.w3.org/2000/svg\" height=\"24px\" viewBox=\"0 -960 960 960\">\n",
              "    <path d=\"M120-120v-720h720v720H120Zm60-500h600v-160H180v160Zm220 220h160v-160H400v160Zm0 220h160v-160H400v160ZM180-400h160v-160H180v160Zm440 0h160v-160H620v160ZM180-180h160v-160H180v160Zm440 0h160v-160H620v160Z\"/>\n",
              "  </svg>\n",
              "    </button>\n",
              "\n",
              "  <style>\n",
              "    .colab-df-container {\n",
              "      display:flex;\n",
              "      gap: 12px;\n",
              "    }\n",
              "\n",
              "    .colab-df-convert {\n",
              "      background-color: #E8F0FE;\n",
              "      border: none;\n",
              "      border-radius: 50%;\n",
              "      cursor: pointer;\n",
              "      display: none;\n",
              "      fill: #1967D2;\n",
              "      height: 32px;\n",
              "      padding: 0 0 0 0;\n",
              "      width: 32px;\n",
              "    }\n",
              "\n",
              "    .colab-df-convert:hover {\n",
              "      background-color: #E2EBFA;\n",
              "      box-shadow: 0px 1px 2px rgba(60, 64, 67, 0.3), 0px 1px 3px 1px rgba(60, 64, 67, 0.15);\n",
              "      fill: #174EA6;\n",
              "    }\n",
              "\n",
              "    .colab-df-buttons div {\n",
              "      margin-bottom: 4px;\n",
              "    }\n",
              "\n",
              "    [theme=dark] .colab-df-convert {\n",
              "      background-color: #3B4455;\n",
              "      fill: #D2E3FC;\n",
              "    }\n",
              "\n",
              "    [theme=dark] .colab-df-convert:hover {\n",
              "      background-color: #434B5C;\n",
              "      box-shadow: 0px 1px 3px 1px rgba(0, 0, 0, 0.15);\n",
              "      filter: drop-shadow(0px 1px 2px rgba(0, 0, 0, 0.3));\n",
              "      fill: #FFFFFF;\n",
              "    }\n",
              "  </style>\n",
              "\n",
              "    <script>\n",
              "      const buttonEl =\n",
              "        document.querySelector('#df-87f4c8d2-9812-4557-81f0-dc6d74e4014e button.colab-df-convert');\n",
              "      buttonEl.style.display =\n",
              "        google.colab.kernel.accessAllowed ? 'block' : 'none';\n",
              "\n",
              "      async function convertToInteractive(key) {\n",
              "        const element = document.querySelector('#df-87f4c8d2-9812-4557-81f0-dc6d74e4014e');\n",
              "        const dataTable =\n",
              "          await google.colab.kernel.invokeFunction('convertToInteractive',\n",
              "                                                    [key], {});\n",
              "        if (!dataTable) return;\n",
              "\n",
              "        const docLinkHtml = 'Like what you see? Visit the ' +\n",
              "          '<a target=\"_blank\" href=https://colab.research.google.com/notebooks/data_table.ipynb>data table notebook</a>'\n",
              "          + ' to learn more about interactive tables.';\n",
              "        element.innerHTML = '';\n",
              "        dataTable['output_type'] = 'display_data';\n",
              "        await google.colab.output.renderOutput(dataTable, element);\n",
              "        const docLink = document.createElement('div');\n",
              "        docLink.innerHTML = docLinkHtml;\n",
              "        element.appendChild(docLink);\n",
              "      }\n",
              "    </script>\n",
              "  </div>\n",
              "\n",
              "\n",
              "    </div>\n",
              "  </div>\n"
            ],
            "application/vnd.google.colaboratory.intrinsic+json": {
              "type": "dataframe",
              "repr_error": "Out of range float values are not JSON compliant: nan"
            }
          },
          "metadata": {},
          "execution_count": 11
        }
      ]
    },
    {
      "cell_type": "code",
      "source": [
        "# Start with default as 'Other'\n",
        "df['Product_grouped'] = 'Other'\n",
        "\n",
        "# Set BNPL where Sub-product contains buy now or BNPL\n",
        "df.loc[df['Sub-product'].str.contains(\"buy now|BNPL\", case=False, na=False), 'Product_grouped'] = 'Buy Now, Pay Later (BNPL)'\n"
      ],
      "metadata": {
        "id": "wu-ZLH_jByhZ"
      },
      "execution_count": 12,
      "outputs": []
    },
    {
      "cell_type": "code",
      "source": [
        "def group_product(row):\n",
        "    prod = str(row['Product']).lower()\n",
        "    subprod = str(row['Sub-product']).lower()\n",
        "\n",
        "    if 'buy now' in subprod or 'bnpl' in subprod:\n",
        "        return 'Buy Now, Pay Later (BNPL)'\n",
        "    elif 'credit card' in prod:\n",
        "        return 'Credit card'\n",
        "    elif 'personal loan' in prod or 'payday' in prod:\n",
        "        return 'Personal loan'\n",
        "    elif 'money transfer' in prod or 'virtual currency' in prod:\n",
        "        return 'Money transfers'\n",
        "    elif 'savings' in prod and 'checking' not in prod:\n",
        "        return 'Savings account'\n",
        "    else:\n",
        "        return 'Other'\n",
        "\n",
        "df['Product_grouped'] = df.apply(group_product, axis=1)\n"
      ],
      "metadata": {
        "id": "Fi36wifRCjqt"
      },
      "execution_count": 16,
      "outputs": []
    },
    {
      "cell_type": "code",
      "source": [
        "# See how many rows belong to each group\n",
        "print(df['Product_grouped'].value_counts())\n",
        "\n",
        "# Filter just the target products\n",
        "target_products = [\n",
        "    'Credit card',\n",
        "    'Personal loan',\n",
        "    'Buy Now, Pay Later (BNPL)',\n",
        "    'Savings account',\n",
        "    'Money transfers'\n",
        "]\n",
        "\n",
        "df = df[df['Product_grouped'].isin(target_products)]\n"
      ],
      "metadata": {
        "colab": {
          "base_uri": "https://localhost:8080/"
        },
        "id": "_a_y2SedCyZB",
        "outputId": "5618621f-c2bb-4137-f474-d1d68611de8a"
      },
      "execution_count": 17,
      "outputs": [
        {
          "output_type": "stream",
          "name": "stdout",
          "text": [
            "Product_grouped\n",
            "Other              2664841\n",
            "Credit card         189334\n",
            "Money transfers      98701\n",
            "Personal loan        27880\n",
            "Name: count, dtype: int64\n"
          ]
        }
      ]
    },
    {
      "cell_type": "code",
      "source": [
        "# Get all BNPL rows from Sub-product\n",
        "bnpl_mask = df['Sub-product'].str.contains(\"buy now|BNPL\", case=False, na=False)\n",
        "\n",
        "# Set the grouped value\n",
        "df.loc[bnpl_mask, 'Product_grouped'] = 'Buy Now, Pay Later (BNPL)'\n"
      ],
      "metadata": {
        "id": "FkBpkeyWDH14"
      },
      "execution_count": 18,
      "outputs": []
    },
    {
      "cell_type": "code",
      "source": [
        "print(df['Product_grouped'].value_counts())\n"
      ],
      "metadata": {
        "colab": {
          "base_uri": "https://localhost:8080/"
        },
        "id": "EPWe1XioDNXC",
        "outputId": "7d0d05b9-9b07-497c-8d57-cd82a343c1a4"
      },
      "execution_count": 19,
      "outputs": [
        {
          "output_type": "stream",
          "name": "stdout",
          "text": [
            "Product_grouped\n",
            "Credit card        189334\n",
            "Money transfers     98701\n",
            "Personal loan       27880\n",
            "Name: count, dtype: int64\n"
          ]
        }
      ]
    },
    {
      "cell_type": "code",
      "source": [
        "# Define product mapping\n",
        "product_mapping = {\n",
        "    'Credit card': 'Credit card',\n",
        "    'Credit card or prepaid card': 'Credit card',\n",
        "    'Payday loan, title loan, or personal loan': 'Personal loan',\n",
        "    'Payday loan, title loan, personal loan, or advance loan': 'Personal loan',\n",
        "    'Consumer Loan': 'Personal loan',\n",
        "    'Checking or savings account': 'Savings account',\n",
        "    'Bank account or service': 'Savings account',\n",
        "    'Money transfers': 'Money transfers',\n",
        "    'Money transfer, virtual currency, or money service': 'Money transfers'\n",
        "}\n",
        "\n",
        "# Apply mapping to Product column\n",
        "df.loc[:, 'Product'] = df['Product'].map(product_mapping).fillna(df['Product'])\n",
        "\n",
        "# Identify BNPL complaints via keyword search\n",
        "df.loc[:, 'Product'] = df.apply(\n",
        "    lambda row: 'Buy Now, Pay Later (BNPL)' if isinstance(row['Consumer complaint narrative'], str)\n",
        "    and 'buy now pay later' in row['Consumer complaint narrative'].lower()\n",
        "    else row['Product'],\n",
        "    axis=1\n",
        ")\n",
        "\n",
        "# Filter for the five specified products\n",
        "required_products = ['Credit card', 'Personal loan', 'Buy Now, Pay Later (BNPL)', 'Savings account', 'Money transfers']\n",
        "df_filtered = df[df['Product'].isin(required_products)].copy()\n",
        "\n",
        "# Remove records with empty Consumer complaint narrative\n",
        "df_filtered = df_filtered[df_filtered['Consumer complaint narrative'].notnull() & (df_filtered['Consumer complaint narrative'].str.strip() != '')]\n",
        "\n",
        "# Save the filtered dataset\n",
        "# df_filtered.to_csv('data/filtered_complaints.csv', index=False)\n",
        "\n",
        "# Verify the distribution\n",
        "product_counts = df_filtered['Product'].value_counts().reindex(required_products, fill_value=0)\n",
        "print(\"Distribution of Complaints by Product (after mapping and filtering):\")\n",
        "print(product_counts)"
      ],
      "metadata": {
        "colab": {
          "base_uri": "https://localhost:8080/"
        },
        "id": "9nDytGpBEJXn",
        "outputId": "f211e8ca-7ffb-48c3-b8ad-273a316c7ccc"
      },
      "execution_count": 22,
      "outputs": [
        {
          "output_type": "stream",
          "name": "stdout",
          "text": [
            "Distribution of Complaints by Product (after mapping and filtering):\n",
            "Product\n",
            "Credit card                  189313\n",
            "Personal loan                 26106\n",
            "Buy Now, Pay Later (BNPL)        51\n",
            "Savings account                   0\n",
            "Money transfers               98683\n",
            "Name: count, dtype: int64\n"
          ]
        }
      ]
    },
    {
      "cell_type": "code",
      "source": [
        "# prompt: Clean the text narratives to improve embedding quality. This may include:\n",
        "# Lowercasing text.\n",
        "# Removing special characters or boilerplate text (e.g., \"I am writing to file a complaint...\").\n",
        "# (Optional) Consider other text normalization techniques.\n",
        "\n",
        "import re\n",
        "\n",
        "def clean_narrative(text):\n",
        "  \"\"\"\n",
        "  Cleans consumer complaint narratives by lowercasing and removing special characters.\n",
        "\n",
        "  Args:\n",
        "    text: The raw complaint narrative string.\n",
        "\n",
        "  Returns:\n",
        "    The cleaned complaint narrative string.\n",
        "  \"\"\"\n",
        "  if isinstance(text, str):\n",
        "    text = text.lower()\n",
        "    # Remove non-alphanumeric characters except spaces\n",
        "    text = re.sub(r'[^a-zA-Z0-9\\s]', '', text)\n",
        "    # You can add more specific boilerplate removal here if needed.\n",
        "    # Example: text = text.replace(\"i am writing to file a complaint\", \"\")\n",
        "    return text.strip()\n",
        "  else:\n",
        "    return None\n",
        "\n",
        "df_filtered['cleaned_narrative'] = df_filtered['Consumer complaint narrative'].apply(clean_narrative)\n",
        "\n",
        "# Display the first few cleaned narratives to verify\n",
        "print(df_filtered[['Consumer complaint narrative', 'cleaned_narrative']].head())"
      ],
      "metadata": {
        "colab": {
          "base_uri": "https://localhost:8080/"
        },
        "id": "MLD_roA4SObU",
        "outputId": "dc735475-650e-4c7a-882a-228f2b405057"
      },
      "execution_count": 23,
      "outputs": [
        {
          "output_type": "stream",
          "name": "stdout",
          "text": [
            "                            Consumer complaint narrative  \\\n",
            "12237  A XXXX XXXX card was opened under my name by a...   \n",
            "13280  Dear CFPB, I have a secured credit card with c...   \n",
            "13506  I have a Citi rewards cards. The credit balanc...   \n",
            "13955  b'I am writing to dispute the following charge...   \n",
            "14249  Although the account had been deemed closed, I...   \n",
            "\n",
            "                                       cleaned_narrative  \n",
            "12237  a xxxx xxxx card was opened under my name by a...  \n",
            "13280  dear cfpb i have a secured credit card with ci...  \n",
            "13506  i have a citi rewards cards the credit balance...  \n",
            "13955  bi am writing to dispute the following charges...  \n",
            "14249  although the account had been deemed closed i ...  \n"
          ]
        }
      ]
    },
    {
      "cell_type": "code",
      "source": [
        "import os\n",
        "\n",
        "if not os.path.exists('data'):\n",
        "    os.makedirs('data')\n",
        "\n",
        "df_filtered.to_csv('data/filtered_complaints.csv', index=False)\n",
        "\n",
        "print(\"\\nCleaned and filtered dataset saved to data/filtered_complaints.csv\")\n",
        "\n",
        "# Verify the first few rows of the saved file\n",
        "!head data/filtered_complaints.csv\n",
        "\n"
      ],
      "metadata": {
        "colab": {
          "base_uri": "https://localhost:8080/"
        },
        "id": "JUx3HXekSu5E",
        "outputId": "45c14991-0ead-4cd0-da78-40aa5ab8b6c7"
      },
      "execution_count": 24,
      "outputs": [
        {
          "output_type": "stream",
          "name": "stdout",
          "text": [
            "\n",
            "Cleaned and filtered dataset saved to data/filtered_complaints.csv\n",
            "Date received,Product,Sub-product,Issue,Sub-issue,Consumer complaint narrative,Company public response,Company,State,ZIP code,Tags,Consumer consent provided?,Submitted via,Date sent to company,Company response to consumer,Timely response?,Consumer disputed?,Complaint ID,Product_grouped,cleaned_narrative\n",
            "2025-06-13,Credit card,Store credit card,Getting a credit card,Card opened without my consent or knowledge,\"A XXXX XXXX card was opened under my name by a fraudster. I received a notice from XXXX  that an account was just opened under my name. I reached out to XXXX XXXX to state that this activity was unauthorized and not me. XXXX XXXX confirmed this was fraudulent and immediately closed the card. However, they have failed to remove this from the three credit agencies and this fraud is now impacting my credit score based on a hard credit pull done by XXXX XXXX that was done by a fraudster.\",Company has responded to the consumer and the CFPB and chooses not to provide a public response,\"CITIBANK, N.A.\",TX,78230,Servicemember,Consent provided,Web,2025-06-13,Closed with non-monetary relief,Yes,,14069121,Credit card,a xxxx xxxx card was opened under my name by a fraudster i received a notice from xxxx  that an account was just opened under my name i reached out to xxxx xxxx to state that this activity was unauthorized and not me xxxx xxxx confirmed this was fraudulent and immediately closed the card however they have failed to remove this from the three credit agencies and this fraud is now impacting my credit score based on a hard credit pull done by xxxx xxxx that was done by a fraudster\n",
            "2025-06-12,Credit card,General-purpose credit card or charge card,\"Other features, terms, or problems\",Other problem,\"Dear CFPB, I have a secured credit card with citibank which is changed to unsecured card and I have been calling n waitting for the check release the secured amount {$2500.00} for rhat credit card. They told me to wait then today they told me someone cashed my check but their system doesnt have info as of who, where and when did it happen!!\n",
            "\n",
            "I requested a case number but they wont send me any confirmation whatsoever to report to the police.\n",
            "\n",
            "They told me I have to wait for some form that might be sent to me via mail within 14 days to fill out. I called customer service second time today and their manager told me same thing, no info no help at all! Please help me, it's a big bank but the service is so terrible and lil customer like me can do nothing! Thank so much and look forward for your reply!\",Company has responded to the consumer and the CFPB and chooses not to provide a public response,\"CITIBANK, N.A.\",NY,11220,,Consent provided,Web,2025-06-13,Closed with monetary relief,Yes,,14047085,Credit card,\"dear cfpb i have a secured credit card with citibank which is changed to unsecured card and i have been calling n waitting for the check release the secured amount 250000 for rhat credit card they told me to wait then today they told me someone cashed my check but their system doesnt have info as of who where and when did it happen\n",
            "\n",
            "i requested a case number but they wont send me any confirmation whatsoever to report to the police\n",
            "\n"
          ]
        }
      ]
    },
    {
      "cell_type": "markdown",
      "metadata": {
        "id": "c74685a8"
      },
      "source": [
        "## Key Findings from Exploratory Data Analysis (EDA)\n",
        "\n",
        "Based on the initial exploration and analysis of the CFPB consumer complaint dataset, several key findings were identified:\n",
        "\n",
        "The dataset is extensive, containing a large volume of consumer complaints. A notable observation from the initial data inspection was the presence of missing values in several columns, particularly in fields like 'Sub-product', 'Sub-issue', 'Consumer complaint narrative', 'Company public response', and 'Tags'. This highlights the need for careful handling of missing data during subsequent analysis and model building.\n",
        "\n",
        "Analysis of the product distribution, specifically focusing on 'Credit card', 'Personal loan', 'Buy Now, Pay Later (BNPL)', 'Savings account', and 'Money transfers', revealed that 'Credit card' related complaints are the most prevalent among these categories. Furthermore, the investigation into the 'Consumer complaint narrative' column showed a significant disparity in the presence of narratives, with a large number of complaints lacking this detailed text field. For those complaints with narratives, the length (word count) varied considerably, indicating a diverse range in the level of detail provided by consumers.\n",
        "\n",
        "These findings inform the subsequent data preprocessing steps, including filtering for relevant products and complaints with narratives, and highlight the characteristics of the data that will be used for the RAG pipeline."
      ]
    }
  ]
}